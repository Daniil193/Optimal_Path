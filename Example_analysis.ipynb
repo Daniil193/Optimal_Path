{
 "cells": [
  {
   "cell_type": "markdown",
   "metadata": {},
   "source": [
    "## Import Lib"
   ]
  },
  {
   "cell_type": "code",
   "execution_count": 1,
   "metadata": {},
   "outputs": [],
   "source": [
    "from func import Initial_Log, Optimal_Process\n",
    "import pandas as pd\n",
    "import warnings\n",
    "import os\n",
    "warnings.filterwarnings('ignore')"
   ]
  },
  {
   "cell_type": "markdown",
   "metadata": {},
   "source": [
    "## Load data"
   ]
  },
  {
   "cell_type": "code",
   "execution_count": 2,
   "metadata": {},
   "outputs": [],
   "source": [
    "log = pd.read_csv('example_log.csv', sep=';')"
   ]
  },
  {
   "cell_type": "code",
   "execution_count": 3,
   "metadata": {},
   "outputs": [
    {
     "data": {
      "text/html": [
       "<div>\n",
       "<style scoped>\n",
       "    .dataframe tbody tr th:only-of-type {\n",
       "        vertical-align: middle;\n",
       "    }\n",
       "\n",
       "    .dataframe tbody tr th {\n",
       "        vertical-align: top;\n",
       "    }\n",
       "\n",
       "    .dataframe thead th {\n",
       "        text-align: right;\n",
       "    }\n",
       "</style>\n",
       "<table border=\"1\" class=\"dataframe\">\n",
       "  <thead>\n",
       "    <tr style=\"text-align: right;\">\n",
       "      <th></th>\n",
       "      <th>ids</th>\n",
       "      <th>events</th>\n",
       "      <th>time</th>\n",
       "    </tr>\n",
       "  </thead>\n",
       "  <tbody>\n",
       "    <tr>\n",
       "      <td>0</td>\n",
       "      <td>travel permit 76455</td>\n",
       "      <td>Start trip</td>\n",
       "      <td>2016-10-05 00:00:00</td>\n",
       "    </tr>\n",
       "    <tr>\n",
       "      <td>1</td>\n",
       "      <td>travel permit 76455</td>\n",
       "      <td>End trip</td>\n",
       "      <td>2016-10-05 00:00:00</td>\n",
       "    </tr>\n",
       "    <tr>\n",
       "      <td>2</td>\n",
       "      <td>travel permit 76455</td>\n",
       "      <td>Permit SUBMITTED by EMPLOYEE</td>\n",
       "      <td>2017-04-06 13:32:10</td>\n",
       "    </tr>\n",
       "    <tr>\n",
       "      <td>3</td>\n",
       "      <td>travel permit 76455</td>\n",
       "      <td>Permit FINAL_APPROVED by SUPERVISOR</td>\n",
       "      <td>2017-04-06 13:32:28</td>\n",
       "    </tr>\n",
       "    <tr>\n",
       "      <td>4</td>\n",
       "      <td>travel permit 76455</td>\n",
       "      <td>Declaration SUBMITTED by EMPLOYEE</td>\n",
       "      <td>2017-04-07 13:38:14</td>\n",
       "    </tr>\n",
       "    <tr>\n",
       "      <td>5</td>\n",
       "      <td>travel permit 76455</td>\n",
       "      <td>Declaration FINAL_APPROVED by SUPERVISOR</td>\n",
       "      <td>2017-04-07 13:40:17</td>\n",
       "    </tr>\n",
       "    <tr>\n",
       "      <td>6</td>\n",
       "      <td>travel permit 76455</td>\n",
       "      <td>Request Payment</td>\n",
       "      <td>2017-04-11 15:03:43</td>\n",
       "    </tr>\n",
       "    <tr>\n",
       "      <td>7</td>\n",
       "      <td>travel permit 76455</td>\n",
       "      <td>Payment Handled</td>\n",
       "      <td>2017-04-13 17:30:53</td>\n",
       "    </tr>\n",
       "    <tr>\n",
       "      <td>8</td>\n",
       "      <td>travel permit 76665</td>\n",
       "      <td>Start trip</td>\n",
       "      <td>2016-11-21 00:00:00</td>\n",
       "    </tr>\n",
       "    <tr>\n",
       "      <td>9</td>\n",
       "      <td>travel permit 76665</td>\n",
       "      <td>End trip</td>\n",
       "      <td>2016-12-22 00:00:00</td>\n",
       "    </tr>\n",
       "  </tbody>\n",
       "</table>\n",
       "</div>"
      ],
      "text/plain": [
       "                   ids                                    events  \\\n",
       "0  travel permit 76455                                Start trip   \n",
       "1  travel permit 76455                                  End trip   \n",
       "2  travel permit 76455              Permit SUBMITTED by EMPLOYEE   \n",
       "3  travel permit 76455       Permit FINAL_APPROVED by SUPERVISOR   \n",
       "4  travel permit 76455         Declaration SUBMITTED by EMPLOYEE   \n",
       "5  travel permit 76455  Declaration FINAL_APPROVED by SUPERVISOR   \n",
       "6  travel permit 76455                           Request Payment   \n",
       "7  travel permit 76455                           Payment Handled   \n",
       "8  travel permit 76665                                Start trip   \n",
       "9  travel permit 76665                                  End trip   \n",
       "\n",
       "                  time  \n",
       "0  2016-10-05 00:00:00  \n",
       "1  2016-10-05 00:00:00  \n",
       "2  2017-04-06 13:32:10  \n",
       "3  2017-04-06 13:32:28  \n",
       "4  2017-04-07 13:38:14  \n",
       "5  2017-04-07 13:40:17  \n",
       "6  2017-04-11 15:03:43  \n",
       "7  2017-04-13 17:30:53  \n",
       "8  2016-11-21 00:00:00  \n",
       "9  2016-12-22 00:00:00  "
      ]
     },
     "execution_count": 3,
     "metadata": {},
     "output_type": "execute_result"
    }
   ],
   "source": [
    "log.head(10)"
   ]
  },
  {
   "cell_type": "markdown",
   "metadata": {},
   "source": [
    "## Prepare data"
   ]
  },
  {
   "cell_type": "code",
   "execution_count": 4,
   "metadata": {},
   "outputs": [
    {
     "name": "stdout",
     "output_type": "stream",
     "text": [
      "Wall time: 1.76 s\n"
     ]
    }
   ],
   "source": [
    "%%time\n",
    "ilog = Initial_Log(log, \"ids\", \"events\", \"time\", timeformat=\"%Y-%m-%d %H:%M:%S\")\n",
    "prep_log = ilog.get_frame()"
   ]
  },
  {
   "cell_type": "code",
   "execution_count": 5,
   "metadata": {},
   "outputs": [
    {
     "data": {
      "text/html": [
       "<div>\n",
       "<style scoped>\n",
       "    .dataframe tbody tr th:only-of-type {\n",
       "        vertical-align: middle;\n",
       "    }\n",
       "\n",
       "    .dataframe tbody tr th {\n",
       "        vertical-align: top;\n",
       "    }\n",
       "\n",
       "    .dataframe thead th {\n",
       "        text-align: right;\n",
       "    }\n",
       "</style>\n",
       "<table border=\"1\" class=\"dataframe\">\n",
       "  <thead>\n",
       "    <tr style=\"text-align: right;\">\n",
       "      <th></th>\n",
       "      <th>index</th>\n",
       "      <th>ids</th>\n",
       "      <th>events</th>\n",
       "      <th>time</th>\n",
       "      <th>next_event</th>\n",
       "      <th>next_time</th>\n",
       "    </tr>\n",
       "  </thead>\n",
       "  <tbody>\n",
       "    <tr>\n",
       "      <td>0</td>\n",
       "      <td>0</td>\n",
       "      <td>travel permit 76455</td>\n",
       "      <td>Start trip</td>\n",
       "      <td>2016-10-05 00:00:00</td>\n",
       "      <td>End trip</td>\n",
       "      <td>2016-10-05 00:00:00</td>\n",
       "    </tr>\n",
       "    <tr>\n",
       "      <td>1</td>\n",
       "      <td>1</td>\n",
       "      <td>travel permit 76455</td>\n",
       "      <td>End trip</td>\n",
       "      <td>2016-10-05 00:00:00</td>\n",
       "      <td>Permit SUBMITTED by EMPLOYEE</td>\n",
       "      <td>2017-04-06 13:32:10</td>\n",
       "    </tr>\n",
       "    <tr>\n",
       "      <td>2</td>\n",
       "      <td>2</td>\n",
       "      <td>travel permit 76455</td>\n",
       "      <td>Permit SUBMITTED by EMPLOYEE</td>\n",
       "      <td>2017-04-06 13:32:10</td>\n",
       "      <td>Permit FINAL_APPROVED by SUPERVISOR</td>\n",
       "      <td>2017-04-06 13:32:28</td>\n",
       "    </tr>\n",
       "    <tr>\n",
       "      <td>3</td>\n",
       "      <td>3</td>\n",
       "      <td>travel permit 76455</td>\n",
       "      <td>Permit FINAL_APPROVED by SUPERVISOR</td>\n",
       "      <td>2017-04-06 13:32:28</td>\n",
       "      <td>Declaration SUBMITTED by EMPLOYEE</td>\n",
       "      <td>2017-04-07 13:38:14</td>\n",
       "    </tr>\n",
       "    <tr>\n",
       "      <td>4</td>\n",
       "      <td>4</td>\n",
       "      <td>travel permit 76455</td>\n",
       "      <td>Declaration SUBMITTED by EMPLOYEE</td>\n",
       "      <td>2017-04-07 13:38:14</td>\n",
       "      <td>Declaration FINAL_APPROVED by SUPERVISOR</td>\n",
       "      <td>2017-04-07 13:40:17</td>\n",
       "    </tr>\n",
       "  </tbody>\n",
       "</table>\n",
       "</div>"
      ],
      "text/plain": [
       "   index                  ids                               events  \\\n",
       "0      0  travel permit 76455                           Start trip   \n",
       "1      1  travel permit 76455                             End trip   \n",
       "2      2  travel permit 76455         Permit SUBMITTED by EMPLOYEE   \n",
       "3      3  travel permit 76455  Permit FINAL_APPROVED by SUPERVISOR   \n",
       "4      4  travel permit 76455    Declaration SUBMITTED by EMPLOYEE   \n",
       "\n",
       "                 time                                next_event  \\\n",
       "0 2016-10-05 00:00:00                                  End trip   \n",
       "1 2016-10-05 00:00:00              Permit SUBMITTED by EMPLOYEE   \n",
       "2 2017-04-06 13:32:10       Permit FINAL_APPROVED by SUPERVISOR   \n",
       "3 2017-04-06 13:32:28         Declaration SUBMITTED by EMPLOYEE   \n",
       "4 2017-04-07 13:38:14  Declaration FINAL_APPROVED by SUPERVISOR   \n",
       "\n",
       "            next_time  \n",
       "0 2016-10-05 00:00:00  \n",
       "1 2017-04-06 13:32:10  \n",
       "2 2017-04-06 13:32:28  \n",
       "3 2017-04-07 13:38:14  \n",
       "4 2017-04-07 13:40:17  "
      ]
     },
     "execution_count": 5,
     "metadata": {},
     "output_type": "execute_result"
    }
   ],
   "source": [
    "prep_log.head()"
   ]
  },
  {
   "cell_type": "markdown",
   "metadata": {},
   "source": [
    "## Get top 10 chain of sequences"
   ]
  },
  {
   "cell_type": "code",
   "execution_count": 6,
   "metadata": {},
   "outputs": [],
   "source": [
    "df_topchain = ilog.get_top_chain_sequences(10)"
   ]
  },
  {
   "cell_type": "code",
   "execution_count": 7,
   "metadata": {},
   "outputs": [
    {
     "data": {
      "text/html": [
       "<div>\n",
       "<style scoped>\n",
       "    .dataframe tbody tr th:only-of-type {\n",
       "        vertical-align: middle;\n",
       "    }\n",
       "\n",
       "    .dataframe tbody tr th {\n",
       "        vertical-align: top;\n",
       "    }\n",
       "\n",
       "    .dataframe thead th {\n",
       "        text-align: right;\n",
       "    }\n",
       "</style>\n",
       "<table border=\"1\" class=\"dataframe\">\n",
       "  <thead>\n",
       "    <tr style=\"text-align: right;\">\n",
       "      <th></th>\n",
       "      <th>ChainNumber</th>\n",
       "      <th>ChainFrequency</th>\n",
       "      <th>StepNumberOfChain</th>\n",
       "      <th>EventName</th>\n",
       "    </tr>\n",
       "  </thead>\n",
       "  <tbody>\n",
       "    <tr>\n",
       "      <td>0</td>\n",
       "      <td>1</td>\n",
       "      <td>956</td>\n",
       "      <td>1</td>\n",
       "      <td>Permit SUBMITTED by EMPLOYEE</td>\n",
       "    </tr>\n",
       "    <tr>\n",
       "      <td>1</td>\n",
       "      <td>1</td>\n",
       "      <td>956</td>\n",
       "      <td>2</td>\n",
       "      <td>Permit APPROVED by ADMINISTRATION</td>\n",
       "    </tr>\n",
       "    <tr>\n",
       "      <td>2</td>\n",
       "      <td>1</td>\n",
       "      <td>956</td>\n",
       "      <td>3</td>\n",
       "      <td>Permit FINAL_APPROVED by SUPERVISOR</td>\n",
       "    </tr>\n",
       "    <tr>\n",
       "      <td>3</td>\n",
       "      <td>1</td>\n",
       "      <td>956</td>\n",
       "      <td>4</td>\n",
       "      <td>Start trip</td>\n",
       "    </tr>\n",
       "    <tr>\n",
       "      <td>4</td>\n",
       "      <td>1</td>\n",
       "      <td>956</td>\n",
       "      <td>5</td>\n",
       "      <td>End trip</td>\n",
       "    </tr>\n",
       "    <tr>\n",
       "      <td>5</td>\n",
       "      <td>1</td>\n",
       "      <td>956</td>\n",
       "      <td>6</td>\n",
       "      <td>Declaration SUBMITTED by EMPLOYEE</td>\n",
       "    </tr>\n",
       "    <tr>\n",
       "      <td>6</td>\n",
       "      <td>1</td>\n",
       "      <td>956</td>\n",
       "      <td>7</td>\n",
       "      <td>Declaration APPROVED by ADMINISTRATION</td>\n",
       "    </tr>\n",
       "    <tr>\n",
       "      <td>7</td>\n",
       "      <td>1</td>\n",
       "      <td>956</td>\n",
       "      <td>8</td>\n",
       "      <td>Declaration FINAL_APPROVED by SUPERVISOR</td>\n",
       "    </tr>\n",
       "    <tr>\n",
       "      <td>8</td>\n",
       "      <td>1</td>\n",
       "      <td>956</td>\n",
       "      <td>9</td>\n",
       "      <td>Request Payment</td>\n",
       "    </tr>\n",
       "    <tr>\n",
       "      <td>9</td>\n",
       "      <td>1</td>\n",
       "      <td>956</td>\n",
       "      <td>10</td>\n",
       "      <td>Payment Handled</td>\n",
       "    </tr>\n",
       "    <tr>\n",
       "      <td>10</td>\n",
       "      <td>2</td>\n",
       "      <td>427</td>\n",
       "      <td>1</td>\n",
       "      <td>Permit SUBMITTED by EMPLOYEE</td>\n",
       "    </tr>\n",
       "    <tr>\n",
       "      <td>11</td>\n",
       "      <td>2</td>\n",
       "      <td>427</td>\n",
       "      <td>2</td>\n",
       "      <td>Permit APPROVED by ADMINISTRATION</td>\n",
       "    </tr>\n",
       "  </tbody>\n",
       "</table>\n",
       "</div>"
      ],
      "text/plain": [
       "    ChainNumber  ChainFrequency  StepNumberOfChain  \\\n",
       "0             1             956                  1   \n",
       "1             1             956                  2   \n",
       "2             1             956                  3   \n",
       "3             1             956                  4   \n",
       "4             1             956                  5   \n",
       "5             1             956                  6   \n",
       "6             1             956                  7   \n",
       "7             1             956                  8   \n",
       "8             1             956                  9   \n",
       "9             1             956                 10   \n",
       "10            2             427                  1   \n",
       "11            2             427                  2   \n",
       "\n",
       "                                   EventName  \n",
       "0               Permit SUBMITTED by EMPLOYEE  \n",
       "1          Permit APPROVED by ADMINISTRATION  \n",
       "2        Permit FINAL_APPROVED by SUPERVISOR  \n",
       "3                                 Start trip  \n",
       "4                                   End trip  \n",
       "5          Declaration SUBMITTED by EMPLOYEE  \n",
       "6     Declaration APPROVED by ADMINISTRATION  \n",
       "7   Declaration FINAL_APPROVED by SUPERVISOR  \n",
       "8                            Request Payment  \n",
       "9                            Payment Handled  \n",
       "10              Permit SUBMITTED by EMPLOYEE  \n",
       "11         Permit APPROVED by ADMINISTRATION  "
      ]
     },
     "execution_count": 7,
     "metadata": {},
     "output_type": "execute_result"
    }
   ],
   "source": [
    "df_topchain.head(12)"
   ]
  },
  {
   "cell_type": "markdown",
   "metadata": {},
   "source": [
    "## Find optimal process"
   ]
  },
  {
   "cell_type": "code",
   "execution_count": 8,
   "metadata": {},
   "outputs": [],
   "source": [
    "op = Optimal_Process(ilog)"
   ]
  },
  {
   "cell_type": "markdown",
   "metadata": {},
   "source": [
    "#### Set base sequences for search optimal "
   ]
  },
  {
   "cell_type": "code",
   "execution_count": 9,
   "metadata": {},
   "outputs": [],
   "source": [
    "for_compare = ['Permit SUBMITTED by EMPLOYEE',\n",
    "               'Permit APPROVED by ADMINISTRATION',\n",
    "               'Start trip',\n",
    "               'End trip',\n",
    "               'Declaration SUBMITTED by EMPLOYEE',\n",
    "               'Declaration APPROVED by ADMINISTRATION',\n",
    "               'Request Payment',\n",
    "               'Payment Handled']"
   ]
  },
  {
   "cell_type": "code",
   "execution_count": 10,
   "metadata": {},
   "outputs": [
    {
     "name": "stdout",
     "output_type": "stream",
     "text": [
      "Wall time: 997 ms\n"
     ]
    }
   ],
   "source": [
    "%%time\n",
    "b, s = op.get_faster_similar_sequence(for_compare, best_seq_ind = 0)"
   ]
  },
  {
   "cell_type": "code",
   "execution_count": 11,
   "metadata": {},
   "outputs": [
    {
     "data": {
      "text/plain": [
       "['Permit SUBMITTED by EMPLOYEE',\n",
       " 'Permit APPROVED by ADMINISTRATION',\n",
       " 'Start trip',\n",
       " 'End trip',\n",
       " 'Permit FINAL_APPROVED by SUPERVISOR',\n",
       " 'Declaration SUBMITTED by EMPLOYEE',\n",
       " 'Declaration APPROVED by ADMINISTRATION',\n",
       " 'Declaration FINAL_APPROVED by SUPERVISOR',\n",
       " 'Request Payment',\n",
       " 'Payment Handled']"
      ]
     },
     "execution_count": 11,
     "metadata": {},
     "output_type": "execute_result"
    }
   ],
   "source": [
    "split_events = b.split(\"-|>\")\n",
    "split_events"
   ]
  },
  {
   "cell_type": "markdown",
   "metadata": {},
   "source": [
    "### Best seq to df"
   ]
  },
  {
   "cell_type": "code",
   "execution_count": 12,
   "metadata": {},
   "outputs": [],
   "source": [
    "data = []\n",
    "for i in range(len(split_events)-1):\n",
    "    data.append([split_events[i], split_events[i+1], s[(split_events[i], split_events[i+1])]])\n",
    "df_res = pd.DataFrame(data, columns=[\"Start_event\", \"End_event\", \"Median timedelta\"])    "
   ]
  },
  {
   "cell_type": "code",
   "execution_count": 13,
   "metadata": {},
   "outputs": [
    {
     "data": {
      "text/html": [
       "<div>\n",
       "<style scoped>\n",
       "    .dataframe tbody tr th:only-of-type {\n",
       "        vertical-align: middle;\n",
       "    }\n",
       "\n",
       "    .dataframe tbody tr th {\n",
       "        vertical-align: top;\n",
       "    }\n",
       "\n",
       "    .dataframe thead th {\n",
       "        text-align: right;\n",
       "    }\n",
       "</style>\n",
       "<table border=\"1\" class=\"dataframe\">\n",
       "  <thead>\n",
       "    <tr style=\"text-align: right;\">\n",
       "      <th></th>\n",
       "      <th>Start_event</th>\n",
       "      <th>End_event</th>\n",
       "      <th>Median timedelta</th>\n",
       "    </tr>\n",
       "  </thead>\n",
       "  <tbody>\n",
       "    <tr>\n",
       "      <td>0</td>\n",
       "      <td>Permit SUBMITTED by EMPLOYEE</td>\n",
       "      <td>Permit APPROVED by ADMINISTRATION</td>\n",
       "      <td>-1 day, 23:59:59</td>\n",
       "    </tr>\n",
       "    <tr>\n",
       "      <td>1</td>\n",
       "      <td>Permit APPROVED by ADMINISTRATION</td>\n",
       "      <td>Start trip</td>\n",
       "      <td>-1 day, 4:38:40</td>\n",
       "    </tr>\n",
       "    <tr>\n",
       "      <td>2</td>\n",
       "      <td>Start trip</td>\n",
       "      <td>End trip</td>\n",
       "      <td>-4 days, 0:00:00</td>\n",
       "    </tr>\n",
       "    <tr>\n",
       "      <td>3</td>\n",
       "      <td>End trip</td>\n",
       "      <td>Permit FINAL_APPROVED by SUPERVISOR</td>\n",
       "      <td>-1 day, 22:23:44</td>\n",
       "    </tr>\n",
       "    <tr>\n",
       "      <td>4</td>\n",
       "      <td>Permit FINAL_APPROVED by SUPERVISOR</td>\n",
       "      <td>Declaration SUBMITTED by EMPLOYEE</td>\n",
       "      <td>17:16:10.500000</td>\n",
       "    </tr>\n",
       "    <tr>\n",
       "      <td>5</td>\n",
       "      <td>Declaration SUBMITTED by EMPLOYEE</td>\n",
       "      <td>Declaration APPROVED by ADMINISTRATION</td>\n",
       "      <td>-1 day, 23:57:52.500000</td>\n",
       "    </tr>\n",
       "    <tr>\n",
       "      <td>6</td>\n",
       "      <td>Declaration APPROVED by ADMINISTRATION</td>\n",
       "      <td>Declaration FINAL_APPROVED by SUPERVISOR</td>\n",
       "      <td>1 day, 18:39:25.500000</td>\n",
       "    </tr>\n",
       "    <tr>\n",
       "      <td>7</td>\n",
       "      <td>Declaration FINAL_APPROVED by SUPERVISOR</td>\n",
       "      <td>Request Payment</td>\n",
       "      <td>-1 day, 20:04:32</td>\n",
       "    </tr>\n",
       "    <tr>\n",
       "      <td>8</td>\n",
       "      <td>Request Payment</td>\n",
       "      <td>Payment Handled</td>\n",
       "      <td>-1 day, 19:04:50.500000</td>\n",
       "    </tr>\n",
       "  </tbody>\n",
       "</table>\n",
       "</div>"
      ],
      "text/plain": [
       "                                Start_event  \\\n",
       "0              Permit SUBMITTED by EMPLOYEE   \n",
       "1         Permit APPROVED by ADMINISTRATION   \n",
       "2                                Start trip   \n",
       "3                                  End trip   \n",
       "4       Permit FINAL_APPROVED by SUPERVISOR   \n",
       "5         Declaration SUBMITTED by EMPLOYEE   \n",
       "6    Declaration APPROVED by ADMINISTRATION   \n",
       "7  Declaration FINAL_APPROVED by SUPERVISOR   \n",
       "8                           Request Payment   \n",
       "\n",
       "                                  End_event         Median timedelta  \n",
       "0         Permit APPROVED by ADMINISTRATION         -1 day, 23:59:59  \n",
       "1                                Start trip          -1 day, 4:38:40  \n",
       "2                                  End trip         -4 days, 0:00:00  \n",
       "3       Permit FINAL_APPROVED by SUPERVISOR         -1 day, 22:23:44  \n",
       "4         Declaration SUBMITTED by EMPLOYEE          17:16:10.500000  \n",
       "5    Declaration APPROVED by ADMINISTRATION  -1 day, 23:57:52.500000  \n",
       "6  Declaration FINAL_APPROVED by SUPERVISOR   1 day, 18:39:25.500000  \n",
       "7                           Request Payment         -1 day, 20:04:32  \n",
       "8                           Payment Handled  -1 day, 19:04:50.500000  "
      ]
     },
     "execution_count": 13,
     "metadata": {},
     "output_type": "execute_result"
    }
   ],
   "source": [
    "df_res"
   ]
  },
  {
   "cell_type": "markdown",
   "metadata": {},
   "source": [
    "Median timedelta - разница медианного времени исполнения событий между всем логом и оптимальной последовательностью"
   ]
  },
  {
   "cell_type": "markdown",
   "metadata": {},
   "source": [
    "## get employee's id which have best sequence"
   ]
  },
  {
   "cell_type": "code",
   "execution_count": 14,
   "metadata": {},
   "outputs": [
    {
     "data": {
      "text/plain": [
       "array(['travel permit 10066', 'travel permit 10741',\n",
       "       'travel permit 13644', 'travel permit 13759',\n",
       "       'travel permit 15784', 'travel permit 19950',\n",
       "       'travel permit 23492', 'travel permit 23726',\n",
       "       'travel permit 24909', 'travel permit 29224',\n",
       "       'travel permit 29453', 'travel permit 30171',\n",
       "       'travel permit 31729', 'travel permit 34005',\n",
       "       'travel permit 34706', 'travel permit 35196',\n",
       "       'travel permit 35430', 'travel permit 35537',\n",
       "       'travel permit 35581', 'travel permit 36093',\n",
       "       'travel permit 38284', 'travel permit 3830', 'travel permit 40778',\n",
       "       'travel permit 43176', 'travel permit 45381',\n",
       "       'travel permit 47865', 'travel permit 48225',\n",
       "       'travel permit 50376', 'travel permit 51646', 'travel permit 5172',\n",
       "       'travel permit 52957', 'travel permit 55048',\n",
       "       'travel permit 55722', 'travel permit 56883',\n",
       "       'travel permit 56893', 'travel permit 62655',\n",
       "       'travel permit 65783', 'travel permit 71537',\n",
       "       'travel permit 71693', 'travel permit 8954'], dtype=object)"
      ]
     },
     "execution_count": 14,
     "metadata": {},
     "output_type": "execute_result"
    }
   ],
   "source": [
    "op.get_id_by_sequence(b)"
   ]
  },
  {
   "cell_type": "code",
   "execution_count": null,
   "metadata": {},
   "outputs": [],
   "source": []
  }
 ],
 "metadata": {
  "kernelspec": {
   "display_name": "Python 3",
   "language": "python",
   "name": "python3"
  },
  "language_info": {
   "codemirror_mode": {
    "name": "ipython",
    "version": 3
   },
   "file_extension": ".py",
   "mimetype": "text/x-python",
   "name": "python",
   "nbconvert_exporter": "python",
   "pygments_lexer": "ipython3",
   "version": "3.7.4"
  }
 },
 "nbformat": 4,
 "nbformat_minor": 5
}
